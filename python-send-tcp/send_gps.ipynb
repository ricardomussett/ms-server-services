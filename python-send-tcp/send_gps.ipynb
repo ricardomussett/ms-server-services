{
 "cells": [
  {
   "cell_type": "code",
   "execution_count": 1,
   "metadata": {},
   "outputs": [],
   "source": [
    "import socket\n",
    "import time\n",
    "import random\n",
    "from datetime import datetime\n",
    "import struct\n",
    "import binascii\n",
    "\n",
    "class RopeGpsEmulator:\n",
    "    def __init__(self, server_ip, server_port, device_id):\n",
    "        self.server_ip = server_ip\n",
    "        self.server_port = server_port\n",
    "        self.device_id = device_id\n",
    "        self.pseudo_ip = self.generate_pseudo_ip(device_id)\n",
    "        self.socket = socket.socket(socket.AF_INET, socket.SOCK_DGRAM)\n",
    "        self.sequence = 1\n",
    "        \n",
    "    def generate_pseudo_ip(self, sim_number):\n",
    "        \"\"\"Genera la dirección IP pseudo según el algoritmo del protocolo\"\"\"\n",
    "        # Asegurarnos de que tenemos al menos 10 dígitos\n",
    "        if len(sim_number) == 11:\n",
    "            sim_number = sim_number[1:]  # Remove first digit if length is 11\n",
    "        \n",
    "        # Rellenar con ceros si es necesario para tener 10 dígitos\n",
    "        sim_number = sim_number.zfill(10)\n",
    "        \n",
    "        # Dividir en grupos de 2 dígitos\n",
    "        groups = [sim_number[i:i+2] for i in range(0, 10, 2)]\n",
    "        \n",
    "        # Tomar los últimos 4 grupos (índices 1 a 4)\n",
    "        last_four = [int(groups[i]) for i in range(1, 5)]\n",
    "        \n",
    "        # Procesar el primer grupo\n",
    "        first_group = int(groups[0]) - 30\n",
    "        binary_first = format(first_group, '04b')\n",
    "        \n",
    "        # Generar los bytes pseudo IP\n",
    "        pseudo_bytes = []\n",
    "        for i in range(4):\n",
    "            last_byte = format(last_four[i], '08b')\n",
    "            new_byte = binary_first[i] + last_byte[1:]\n",
    "            pseudo_bytes.append(int(new_byte, 2))\n",
    "            \n",
    "        return bytes(pseudo_bytes)\n",
    "    \n",
    "    def calculate_xor(self, data):\n",
    "        \"\"\"Calcula el checksum XOR para los datos\"\"\"\n",
    "        checksum = 0\n",
    "        for byte in data:\n",
    "            checksum ^= byte\n",
    "        return checksum\n",
    "    \n",
    "    def send_packet(self, packet_type, data=b''):\n",
    "        \"\"\"Envía un paquete al servidor\"\"\"\n",
    "        # Cabecera básica\n",
    "        header = b'\\x24\\x24'\n",
    "        main_command = packet_type.to_bytes(1, 'big')\n",
    "        length = len(data).to_bytes(2, 'big')\n",
    "        \n",
    "        # Construir paquete completo\n",
    "        packet = header + main_command + length + self.pseudo_ip + data\n",
    "        \n",
    "        # Calcular y añadir checksum\n",
    "        checksum = self.calculate_xor(packet[2:-1])  # Excluye header y checksum final\n",
    "        packet += checksum.to_bytes(1, 'big') + b'\\x0D'  # Añade checksum y footer\n",
    "        \n",
    "        # Enviar paquete\n",
    "        self.socket.sendto(packet, (self.server_ip, self.server_port))\n",
    "        print(f\"Enviado: {binascii.hexlify(packet).decode('utf-8')}\")\n",
    "        return packet\n",
    "    \n",
    "    def generate_position_data(self):\n",
    "        \"\"\"Genera datos de posición simulados\"\"\"\n",
    "        now = datetime.now()\n",
    "        \n",
    "        # Fecha y hora (BCD)\n",
    "        date_time = bytes([\n",
    "            (now.year - 2000) // 10 << 4 | (now.year - 2000) % 10,\n",
    "            now.month // 10 << 4 | now.month % 10,\n",
    "            now.day // 10 << 4 | now.day % 10,\n",
    "            now.hour // 10 << 4 | now.hour % 10,\n",
    "            now.minute // 10 << 4 | now.minute % 10,\n",
    "            now.second // 10 << 4 | now.second % 10\n",
    "        ])\n",
    "        \n",
    "        # Latitud (37.901 N)\n",
    "        lat_deg = 37\n",
    "        lat_min = 901\n",
    "        latitude = bytes([\n",
    "            0x80 | (lat_deg // 10 << 4) | (lat_deg % 10),\n",
    "            (lat_min // 100 << 4) | ((lat_min % 100) // 10),\n",
    "            ((lat_min % 100) % 10 << 4) | 0x01,  # 0x01 para .901\n",
    "            0x15  # Parte fraccional\n",
    "        ])\n",
    "        \n",
    "        # Longitud (122.419 W)\n",
    "        lon_deg = 122\n",
    "        lon_min = 419\n",
    "        longitude = bytes([\n",
    "            0x80 | (lon_deg // 10 << 4) | (lon_deg % 10),  # 0x80 para Oeste\n",
    "            (lon_min // 100 << 4) | ((lon_min % 100) // 10),\n",
    "            ((lon_min % 100) % 10 << 4) | 0x04,  # 0x04 para .419\n",
    "            0x19  # Parte fraccional\n",
    "        ])\n",
    "        \n",
    "        # Velocidad (km/h) y ángulo\n",
    "        speed = random.randint(0, 120)\n",
    "        speed_bcd = bytes([\n",
    "            speed // 100 << 4 | (speed % 100) // 10,\n",
    "            (speed % 10) << 4 | 0x00\n",
    "        ])\n",
    "        \n",
    "        angle = random.randint(0, 359)\n",
    "        angle_bcd = bytes([\n",
    "            angle // 100 << 4 | (angle % 100) // 10,\n",
    "            (angle % 10) << 4 | 0x00\n",
    "        ])\n",
    "        \n",
    "        # Estado GPS (localizado, 8 satélites)\n",
    "        gps_status = 0x80 | 0x08  # Bit 7=1 (localizado), 4 satélites\n",
    "        \n",
    "        # Entradas digitales\n",
    "        digital_inputs = 0x40  # Bit 6=1 (sistema en uso)\n",
    "        \n",
    "        # Encendido (random)\n",
    "        ignition = random.randint(0, 1)\n",
    "        \n",
    "        # Resistencia de aceite y voltaje\n",
    "        oil_resistance = random.randint(100, 500).to_bytes(2, 'big')\n",
    "        voltage = int((random.uniform(11.5, 14.5) * 100)).to_bytes(2, 'big')\n",
    "        \n",
    "        # Kilometraje (metros)\n",
    "        mileage = random.randint(10000, 50000).to_bytes(4, 'big')\n",
    "        \n",
    "        # Temperatura (0-40°C)\n",
    "        temperature = bytes([0x00, random.randint(0, 40)])\n",
    "        \n",
    "        # Datos extendidos (opcional)\n",
    "        extended_data = b''  # Puedes añadir datos extendidos si es necesario\n",
    "        \n",
    "        # Construir datos de posición\n",
    "        position_data = (\n",
    "            date_time + latitude + longitude + speed_bcd + angle_bcd + \n",
    "            bytes([gps_status, digital_inputs, ignition]) + \n",
    "            oil_resistance + voltage + mileage + temperature + extended_data\n",
    "        )\n",
    "        \n",
    "        return position_data\n",
    "    \n",
    "    def send_heartbeat(self):\n",
    "        \"\"\"Envía un paquete de heartbeat\"\"\"\n",
    "        return self.send_packet(0x21, b'\\x00')\n",
    "    \n",
    "    def send_position(self):\n",
    "        \"\"\"Envía datos de posición\"\"\"\n",
    "        position_data = self.generate_position_data()\n",
    "        return self.send_packet(0x80, position_data)\n",
    "    \n",
    "    def send_alarm(self, alarm_type):\n",
    "        \"\"\"Envía un paquete de alarma\"\"\"\n",
    "        position_data = self.generate_position_data()\n",
    "        \n",
    "        # Tipos de alarma (ver protocolo)\n",
    "        alarms = {\n",
    "            'emergency': b'\\x01\\x01',  # Alarma de emergencia\n",
    "            'overspeed': b'\\x00\\x02',  # Exceso de velocidad\n",
    "            'vibration': b'\\x00\\x20',  # Alarma de vibración\n",
    "            'power': b'\\x08\\x08'       # Problema de potencia\n",
    "        }\n",
    "        \n",
    "        alarm_data = alarms.get(alarm_type, b'\\x00\\x00')\n",
    "        return self.send_packet(0x82, position_data + alarm_data)\n",
    "    \n",
    "    def send_ibutton_swipe(self, driver_name=\"Driver1\", ibutton_id=\"000013082D45\"):\n",
    "        \"\"\"Envía datos de swipe de iButton\"\"\"\n",
    "        status = 0x01  # Modo anti-robo activado\n",
    "        now = datetime.now()\n",
    "        \n",
    "        # Fecha y hora\n",
    "        date_time = bytes([\n",
    "            now.year - 2000,\n",
    "            now.month,\n",
    "            now.day,\n",
    "            now.hour,\n",
    "            now.minute,\n",
    "            now.second\n",
    "        ])\n",
    "        \n",
    "        # Coordenadas (similares a posición)\n",
    "        latitude = bytes([0x02, 0x41, 0x71, 0x15])\n",
    "        longitude = bytes([0x05, 0x43, 0x86, 0x88])\n",
    "        \n",
    "        # Datos del conductor\n",
    "        driver_data = f\"<{driver_name},{ibutton_id}>\".encode('ascii')\n",
    "        \n",
    "        # Construir contenido\n",
    "        content = (\n",
    "            bytes([status]) + date_time + latitude + longitude + driver_data\n",
    "        )\n",
    "        \n",
    "        return self.send_packet(0x94, bytes([0x0B]) + content)  # 0x0B = Subcomando para swipe\n",
    "    \n",
    "    def run(self, interval=30):\n",
    "        \"\"\"Ejecuta el emulador con intervalos regulares\"\"\"\n",
    "        try:\n",
    "            print(f\"Emulador GPS iniciado para dispositivo {self.device_id}\")\n",
    "            while True:\n",
    "                # Enviar heartbeat cada 3 intervalos\n",
    "                if self.sequence % 3 == 0:\n",
    "                    self.send_heartbeat()\n",
    "                \n",
    "                # Enviar posición regularmente\n",
    "                self.send_position()\n",
    "                \n",
    "                # Enviar alarma ocasionalmente (10% de probabilidad)\n",
    "                if random.random() < 0.1:\n",
    "                    alarm_type = random.choice(['emergency', 'overspeed', 'vibration', 'power'])\n",
    "                    self.send_alarm(alarm_type)\n",
    "                \n",
    "                # Enviar swipe de iButton ocasionalmente (5% de probabilidad)\n",
    "                if random.random() < 0.05:\n",
    "                    self.send_ibutton_swipe()\n",
    "                \n",
    "                time.sleep(interval)\n",
    "                self.sequence += 1\n",
    "                \n",
    "        except KeyboardInterrupt:\n",
    "            print(\"\\nEmulador detenido\")\n",
    "        finally:\n",
    "            self.socket.close()\n",
    "\n"
   ]
  },
  {
   "cell_type": "code",
   "execution_count": 62,
   "metadata": {},
   "outputs": [
    {
     "data": {
      "text/plain": [
       "'3498048336'"
      ]
     },
     "execution_count": 62,
     "metadata": {},
     "output_type": "execute_result"
    }
   ],
   "source": [
    "def ip_to_number(ip: str) -> str:\n",
    "    try:\n",
    "        # Dividir la IP en segmentos\n",
    "        segments = ip.split('.', 4)\n",
    "        if len(segments) != 4:\n",
    "            return None\n",
    "\n",
    "        # Convertir segmentos a bytes\n",
    "        bytes_list = [int(segment) for segment in segments]\n",
    "        if any(byte < 0 or byte > 255 for byte in bytes_list):\n",
    "            return None\n",
    "\n",
    "        # Calcular el valor de i_hight basado en los bits D7\n",
    "        i_hight = 0\n",
    "        i_hight += 8 if (bytes_list[0] & 0x80) else 0\n",
    "        i_hight += 4 if (bytes_list[1] & 0x80) else 0\n",
    "        i_hight += 2 if (bytes_list[2] & 0x80) else 0\n",
    "        i_hight += 1 if (bytes_list[3] & 0x80) else 0\n",
    "\n",
    "        # Ajustar bytes (eliminar bit D7)\n",
    "        adjusted_bytes = [byte & 0x7F for byte in bytes_list]\n",
    "\n",
    "        # Formatear como número de teléfono: \n",
    "        # Para 98.4.199.36 debe retornar 3298047136\n",
    "        # [32][98][04][71][36]\n",
    "        return f\"{32 + i_hight:02d}\" + \"\".join(f\"{byte:02d}\" for byte in adjusted_bytes)\n",
    "    \n",
    "    except:\n",
    "        return None\n",
    "    \n",
    "ip_to_number(\"98.4.211.36\")\n"
   ]
  },
  {
   "cell_type": "code",
   "execution_count": 26,
   "metadata": {},
   "outputs": [
    {
     "data": {
      "text/plain": [
       "'156.69.144.216'"
      ]
     },
     "execution_count": 26,
     "metadata": {},
     "output_type": "execute_result"
    }
   ],
   "source": [
    "def num_to_ip(sim: str) -> str:\n",
    "    temp = [\"\", \"\", \"\", \"\"]\n",
    "    i_higt = 0\n",
    "\n",
    "    if len(sim) == 11:\n",
    "        temp[0] = sim[3:5]\n",
    "        temp[1] = sim[5:7]\n",
    "        temp[2] = sim[7:9]\n",
    "        temp[3] = sim[9:11]\n",
    "        i_higt = int(sim[1:3]) - 30\n",
    "    elif len(sim) == 10:\n",
    "        temp[0] = sim[2:4]\n",
    "        temp[1] = sim[4:6]\n",
    "        temp[2] = sim[6:8]\n",
    "        temp[3] = sim[8:10]\n",
    "        i_higt = int(sim[0:2]) - 30\n",
    "    elif len(sim) == 9:\n",
    "        temp[0] = sim[1:3]\n",
    "        temp[1] = sim[3:5]\n",
    "        temp[2] = sim[5:7]\n",
    "        temp[3] = sim[7:9]\n",
    "        i_higt = int(sim[0])\n",
    "    else:\n",
    "        if len(sim) == 8:\n",
    "            return num_to_ip(\"140\" + sim)\n",
    "        elif len(sim) == 7:\n",
    "            return num_to_ip(\"1400\" + sim)\n",
    "        elif len(sim) == 6:\n",
    "            return num_to_ip(\"14000\" + sim)\n",
    "        elif len(sim) == 5:\n",
    "            return num_to_ip(\"140000\" + sim)\n",
    "        elif len(sim) == 4:\n",
    "            return num_to_ip(\"1400000\" + sim)\n",
    "        elif len(sim) == 3:\n",
    "            return num_to_ip(\"14000000\" + sim)\n",
    "        elif len(sim) == 2:\n",
    "            return num_to_ip(\"140000000\" + sim)\n",
    "        elif len(sim) == 1:\n",
    "            return num_to_ip(\"1400000000\" + sim)\n",
    "        else:\n",
    "            return \"\"\n",
    "\n",
    "    s_ip = [0, 0, 0, 0]\n",
    "\n",
    "    # Aplicar bits de control (D7)\n",
    "    s_ip[0] = int(temp[0]) | 128 if (i_higt & 0x08) else int(temp[0])\n",
    "    s_ip[1] = int(temp[1]) | 128 if (i_higt & 0x04) else int(temp[1])\n",
    "    s_ip[2] = int(temp[2]) | 128 if (i_higt & 0x02) else int(temp[2])\n",
    "    s_ip[3] = int(temp[3]) | 128 if (i_higt & 0x01) else int(temp[3])\n",
    "\n",
    "    return f\"{s_ip[0]}.{s_ip[1]}.{s_ip[2]}.{s_ip[3]}\"\n",
    "\n",
    "num_to_ip(\"04128691688\")"
   ]
  },
  {
   "cell_type": "code",
   "execution_count": 27,
   "metadata": {},
   "outputs": [
    {
     "data": {
      "text/plain": [
       "'156.69.144.216'"
      ]
     },
     "execution_count": 27,
     "metadata": {},
     "output_type": "execute_result"
    }
   ],
   "source": [
    "num_to_ip(\"04128691688\")"
   ]
  },
  {
   "cell_type": "code",
   "execution_count": 57,
   "metadata": {},
   "outputs": [
    {
     "data": {
      "text/plain": [
       "'041498047136'"
      ]
     },
     "execution_count": 57,
     "metadata": {},
     "output_type": "execute_result"
    }
   ],
   "source": [
    "ip_to_number(\"98.4.199.36\")"
   ]
  },
  {
   "cell_type": "code",
   "execution_count": 58,
   "metadata": {},
   "outputs": [
    {
     "data": {
      "text/plain": [
       "'041498047136'"
      ]
     },
     "execution_count": 58,
     "metadata": {},
     "output_type": "execute_result"
    }
   ],
   "source": [
    "ip_to_number(\"98.4.199.36\")"
   ]
  },
  {
   "cell_type": "code",
   "execution_count": 41,
   "metadata": {},
   "outputs": [
    {
     "name": "stdout",
     "output_type": "stream",
     "text": [
      "Enviado: ad0798e0\n"
     ]
    }
   ],
   "source": [
    "# Configura estos valores según tu entorno\n",
    "SERVER_IP = '127.0.0.1'  # IP del servidor\n",
    "SERVER_PORT = 3001        # Puerto del servidor\n",
    "DEVICE_ID = '4145072496'  # Número de SIM del dispositivo\n",
    "\n",
    "emulator = RopeGpsEmulator(SERVER_IP, SERVER_PORT, DEVICE_ID)\n",
    "x = emulator.generate_pseudo_ip(sim_number=DEVICE_ID)\n",
    "\n",
    "print(f\"Enviado: {binascii.hexlify(x).decode('utf-8')}\")"
   ]
  },
  {
   "cell_type": "code",
   "execution_count": 50,
   "metadata": {},
   "outputs": [
    {
     "data": {
      "text/plain": [
       "'98.4.199.36'"
      ]
     },
     "execution_count": 50,
     "metadata": {},
     "output_type": "execute_result"
    }
   ],
   "source": [
    "def decode_pseudo_ip(pseudo_ip: bytes) -> str:\n",
    "    \"\"\"\n",
    "    Decodifica una dirección IP pseudoaleatoria desde un buffer de 4 bytes.\n",
    "    \n",
    "    :param pseudo_ip: Buffer de 4 bytes que contiene la pseudo IP (ej: b'\\\\x37\\\\xE3\\\\x00\\\\xA0').\n",
    "    :return: String con formato de dirección IP (ej: \"55.227.0.160\").\n",
    "    \"\"\"\n",
    "    return '.'.join(map(str, pseudo_ip))\n",
    "\n",
    "\n",
    "\"24 24 80 00 25 6204c724 250419084255010305108665443700000000c0470000000c0f0000000001fffa0d\"\n",
    "buffer = bytes([0x62, 0x04, 0xc7, 0x24])\n",
    "decode_pseudo_ip(buffer)"
   ]
  },
  {
   "cell_type": "code",
   "execution_count": 4,
   "metadata": {},
   "outputs": [
    {
     "ename": "TypeError",
     "evalue": "RopeGpsEmulator.generate_pseudo_ip() missing 1 required positional argument: 'self'",
     "output_type": "error",
     "traceback": [
      "\u001b[1;31m---------------------------------------------------------------------------\u001b[0m",
      "\u001b[1;31mTypeError\u001b[0m                                 Traceback (most recent call last)",
      "Cell \u001b[1;32mIn[4], line 3\u001b[0m\n\u001b[0;32m      1\u001b[0m DEVICE_ID \u001b[38;5;241m=\u001b[39m \u001b[38;5;124m'\u001b[39m\u001b[38;5;124m13512345006\u001b[39m\u001b[38;5;124m'\u001b[39m\n\u001b[1;32m----> 3\u001b[0m \u001b[43mRopeGpsEmulator\u001b[49m\u001b[38;5;241;43m.\u001b[39;49m\u001b[43mgenerate_pseudo_ip\u001b[49m\u001b[43m(\u001b[49m\u001b[43msim_number\u001b[49m\u001b[38;5;241;43m=\u001b[39;49m\u001b[43mDEVICE_ID\u001b[49m\u001b[43m)\u001b[49m\n",
      "\u001b[1;31mTypeError\u001b[0m: RopeGpsEmulator.generate_pseudo_ip() missing 1 required positional argument: 'self'"
     ]
    }
   ],
   "source": [
    "DEVICE_ID = '13512345006'\n",
    "\n"
   ]
  },
  {
   "cell_type": "code",
   "execution_count": 7,
   "metadata": {},
   "outputs": [],
   "source": [
    "# Configura estos valores según tu entorno\n",
    "SERVER_IP = '127.0.0.1'  # IP del servidor\n",
    "SERVER_PORT = 3001        # Puerto del servidor\n",
    "DEVICE_ID = '13512345006'  # Número de SIM del dispositivo\n",
    "\n",
    "emulator = RopeGpsEmulator(SERVER_IP, SERVER_PORT, DEVICE_ID)\n",
    "emulator.generate_pseudo_ip(sim_number=DEVICE_ID)"
   ]
  },
  {
   "cell_type": "code",
   "execution_count": 8,
   "metadata": {},
   "outputs": [
    {
     "data": {
      "text/plain": [
       "b'\\x0c\\xa22\\x86'"
      ]
     },
     "execution_count": 8,
     "metadata": {},
     "output_type": "execute_result"
    }
   ],
   "source": []
  },
  {
   "cell_type": "code",
   "execution_count": null,
   "metadata": {},
   "outputs": [],
   "source": []
  },
  {
   "cell_type": "code",
   "execution_count": 11,
   "metadata": {},
   "outputs": [
    {
     "name": "stdout",
     "output_type": "stream",
     "text": [
      "Enviado: 242480001f0ca23286250412145913b7901115c2419419076003108840010079054700005f750021690d\n"
     ]
    },
    {
     "data": {
      "text/plain": [
       "b'$$\\x80\\x00\\x1f\\x0c\\xa22\\x86%\\x04\\x12\\x14Y\\x13\\xb7\\x90\\x11\\x15\\xc2A\\x94\\x19\\x07`\\x03\\x10\\x88@\\x01\\x00y\\x05G\\x00\\x00_u\\x00!i\\r'"
      ]
     },
     "execution_count": 11,
     "metadata": {},
     "output_type": "execute_result"
    }
   ],
   "source": [
    "# Para enviar paquetes manualmente:\n",
    "# emulator.send_heartbeat()\n",
    "mulator.send_position()\n",
    "# emulator.send_alarm('emergency')\n",
    "# emulator.send_ibutton_swipe()"
   ]
  },
  {
   "cell_type": "code",
   "execution_count": 4,
   "metadata": {},
   "outputs": [
    {
     "ename": "IndexError",
     "evalue": "list index out of range",
     "output_type": "error",
     "traceback": [
      "\u001b[1;31m---------------------------------------------------------------------------\u001b[0m",
      "\u001b[1;31mIndexError\u001b[0m                                Traceback (most recent call last)",
      "Cell \u001b[1;32mIn[4], line 8\u001b[0m\n\u001b[0;32m      5\u001b[0m SERVER_PORT \u001b[38;5;241m=\u001b[39m \u001b[38;5;241m3000\u001b[39m        \u001b[38;5;66;03m# Puerto del servidor\u001b[39;00m\n\u001b[0;32m      6\u001b[0m DEVICE_ID \u001b[38;5;241m=\u001b[39m \u001b[38;5;124m'\u001b[39m\u001b[38;5;124m13512345006\u001b[39m\u001b[38;5;124m'\u001b[39m  \u001b[38;5;66;03m# Número de SIM del dispositivo\u001b[39;00m\n\u001b[1;32m----> 8\u001b[0m emulator \u001b[38;5;241m=\u001b[39m \u001b[43mRopeGpsEmulator\u001b[49m\u001b[43m(\u001b[49m\u001b[43mSERVER_IP\u001b[49m\u001b[43m,\u001b[49m\u001b[43m \u001b[49m\u001b[43mSERVER_PORT\u001b[49m\u001b[43m,\u001b[49m\u001b[43m \u001b[49m\u001b[43mDEVICE_ID\u001b[49m\u001b[43m)\u001b[49m\n\u001b[0;32m     10\u001b[0m \u001b[38;5;66;03m# Para ejecutar en modo automático:\u001b[39;00m\n\u001b[0;32m     11\u001b[0m emulator\u001b[38;5;241m.\u001b[39mrun(interval\u001b[38;5;241m=\u001b[39m\u001b[38;5;241m10\u001b[39m)  \u001b[38;5;66;03m# Envia datos cada 10 segundos\u001b[39;00m\n",
      "Cell \u001b[1;32mIn[1], line 13\u001b[0m, in \u001b[0;36mRopeGpsEmulator.__init__\u001b[1;34m(self, server_ip, server_port, device_id)\u001b[0m\n\u001b[0;32m     11\u001b[0m \u001b[38;5;28mself\u001b[39m\u001b[38;5;241m.\u001b[39mserver_port \u001b[38;5;241m=\u001b[39m server_port\n\u001b[0;32m     12\u001b[0m \u001b[38;5;28mself\u001b[39m\u001b[38;5;241m.\u001b[39mdevice_id \u001b[38;5;241m=\u001b[39m device_id\n\u001b[1;32m---> 13\u001b[0m \u001b[38;5;28mself\u001b[39m\u001b[38;5;241m.\u001b[39mpseudo_ip \u001b[38;5;241m=\u001b[39m \u001b[38;5;28;43mself\u001b[39;49m\u001b[38;5;241;43m.\u001b[39;49m\u001b[43mgenerate_pseudo_ip\u001b[49m\u001b[43m(\u001b[49m\u001b[43mdevice_id\u001b[49m\u001b[43m)\u001b[49m\n\u001b[0;32m     14\u001b[0m \u001b[38;5;28mself\u001b[39m\u001b[38;5;241m.\u001b[39msocket \u001b[38;5;241m=\u001b[39m socket\u001b[38;5;241m.\u001b[39msocket(socket\u001b[38;5;241m.\u001b[39mAF_INET, socket\u001b[38;5;241m.\u001b[39mSOCK_DGRAM)\n\u001b[0;32m     15\u001b[0m \u001b[38;5;28mself\u001b[39m\u001b[38;5;241m.\u001b[39msequence \u001b[38;5;241m=\u001b[39m \u001b[38;5;241m1\u001b[39m\n",
      "Cell \u001b[1;32mIn[1], line 23\u001b[0m, in \u001b[0;36mRopeGpsEmulator.generate_pseudo_ip\u001b[1;34m(self, sim_number)\u001b[0m\n\u001b[0;32m     20\u001b[0m     sim_number \u001b[38;5;241m=\u001b[39m sim_number[\u001b[38;5;241m1\u001b[39m:]  \u001b[38;5;66;03m# Remove first digit\u001b[39;00m\n\u001b[0;32m     22\u001b[0m groups \u001b[38;5;241m=\u001b[39m [sim_number[i:i\u001b[38;5;241m+\u001b[39m\u001b[38;5;241m2\u001b[39m] \u001b[38;5;28;01mfor\u001b[39;00m i \u001b[38;5;129;01min\u001b[39;00m \u001b[38;5;28mrange\u001b[39m(\u001b[38;5;241m0\u001b[39m, \u001b[38;5;241m8\u001b[39m, \u001b[38;5;241m2\u001b[39m)]\n\u001b[1;32m---> 23\u001b[0m last_four \u001b[38;5;241m=\u001b[39m [\u001b[38;5;28mint\u001b[39m(groups[\u001b[38;5;241m1\u001b[39m]), \u001b[38;5;28mint\u001b[39m(groups[\u001b[38;5;241m2\u001b[39m]), \u001b[38;5;28mint\u001b[39m(groups[\u001b[38;5;241m3\u001b[39m]), \u001b[38;5;28mint\u001b[39m(\u001b[43mgroups\u001b[49m\u001b[43m[\u001b[49m\u001b[38;5;241;43m4\u001b[39;49m\u001b[43m]\u001b[49m)]\n\u001b[0;32m     25\u001b[0m first_group \u001b[38;5;241m=\u001b[39m \u001b[38;5;28mint\u001b[39m(groups[\u001b[38;5;241m0\u001b[39m]) \u001b[38;5;241m-\u001b[39m \u001b[38;5;241m30\u001b[39m\n\u001b[0;32m     26\u001b[0m binary_first \u001b[38;5;241m=\u001b[39m \u001b[38;5;28mformat\u001b[39m(first_group, \u001b[38;5;124m'\u001b[39m\u001b[38;5;124m04b\u001b[39m\u001b[38;5;124m'\u001b[39m)\n",
      "\u001b[1;31mIndexError\u001b[0m: list index out of range"
     ]
    }
   ],
   "source": [
    "# Configuración y ejecución\n",
    "if __name__ == \"__main__\":\n",
    "    # Configura estos valores según tu entorno\n",
    "    SERVER_IP = '127.0.0.1'  # IP del servidor\n",
    "    SERVER_PORT = 3000        # Puerto del servidor\n",
    "    DEVICE_ID = '13512345006'  # Número de SIM del dispositivo\n",
    "    \n",
    "    emulator = RopeGpsEmulator(SERVER_IP, SERVER_PORT, DEVICE_ID)\n",
    "    \n",
    "    # Para ejecutar en modo automático:\n",
    "    emulator.run(interval=10)  # Envia datos cada 10 segundos\n",
    "    \n",
    "    # Para enviar paquetes manualmente:\n",
    "    # emulator.send_heartbeat()\n",
    "    # emulator.send_position()\n",
    "    # emulator.send_alarm('emergency')\n",
    "    # emulator.send_ibutton_swipe()"
   ]
  }
 ],
 "metadata": {
  "kernelspec": {
   "display_name": "Python 3",
   "language": "python",
   "name": "python3"
  },
  "language_info": {
   "codemirror_mode": {
    "name": "ipython",
    "version": 3
   },
   "file_extension": ".py",
   "mimetype": "text/x-python",
   "name": "python",
   "nbconvert_exporter": "python",
   "pygments_lexer": "ipython3",
   "version": "3.12.5"
  }
 },
 "nbformat": 4,
 "nbformat_minor": 2
}
